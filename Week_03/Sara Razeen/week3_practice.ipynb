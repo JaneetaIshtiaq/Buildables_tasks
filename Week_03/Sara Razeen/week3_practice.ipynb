{
  "nbformat": 4,
  "nbformat_minor": 0,
  "metadata": {
    "colab": {
      "provenance": []
    },
    "kernelspec": {
      "name": "python3",
      "display_name": "Python 3"
    },
    "language_info": {
      "name": "python"
    }
  },
  "cells": [
    {
      "cell_type": "markdown",
      "source": [
        "question 01"
      ],
      "metadata": {
        "id": "0MsdzWPLFnZ6"
      }
    },
    {
      "cell_type": "code",
      "execution_count": null,
      "metadata": {
        "colab": {
          "base_uri": "https://localhost:8080/",
          "height": 501
        },
        "id": "vfqwzEYF4uoB",
        "outputId": "e9a4c1e5-2e80-4df2-ed54-5cbff7d65f8c"
      },
      "outputs": [
        {
          "output_type": "stream",
          "name": "stdout",
          "text": [
            "slope W : 1.5\n",
            "intercept I : 3.5\n",
            "prediction when x = 10 : 18.5\n"
          ]
        },
        {
          "output_type": "display_data",
          "data": {
            "text/plain": [
              "<Figure size 640x480 with 1 Axes>"
            ],
            "image/png": "[encoded data removed]"
          },
          "metadata": {}
        }
      ],
      "source": [
        "import numpy as np\n",
        "import matplotlib.pyplot as plt\n",
        "\n",
        "\n",
        "x = np.array([1,2,3,4,5])\n",
        "y= np.array([3,10,7,9,11])\n",
        "\n",
        "x_mean=np.mean(x)\n",
        "y_mean=np.mean(y)\n",
        "\n",
        "#slope\n",
        "numerator=np.sum((x-x_mean)*(y-y_mean))\n",
        "denominator=np.sum((x-x_mean)**2)\n",
        "w=numerator/denominator\n",
        "\n",
        "#intercept\n",
        "b=y_mean-(w*x_mean)\n",
        "\n",
        "def predict(x):\n",
        "    return w*x+b\n",
        "\n",
        "y_10=predict(10)\n",
        "\n",
        "print (\"slope W :\",w)\n",
        "print (\"intercept I :\", b)\n",
        "print (\"prediction when x = 10 :\",y_10)\n",
        "\n",
        "plt.scatter(x,y, color='blue', label=\"data points\")\n",
        "plt.plot(x, predict(x), color='red', label=\"Best fit line\") # regression line\n",
        "plt.scatter(10, y_10, color='green', label=\"Prediction at X=10\") # prediction point\n",
        "plt.xlabel(\"x\")\n",
        "plt.ylabel(\"y\")\n",
        "plt.legend()\n",
        "plt.grid(True)\n",
        "plt.show()\n",
        "\n"
      ]
    },
    {
      "cell_type": "markdown",
      "source": [
        "question 02"
      ],
      "metadata": {
        "id": "-oHNvv0gFtyf"
      }
    },
    {
      "cell_type": "code",
      "source": [
        "import numpy as np\n",
        "import matplotlib.pyplot as plt\n",
        "\n",
        "x = np.array([1, 2, 3, 4, 5])\n",
        "y = np.array([32, 35, 37, 42, 45])\n",
        "\n",
        "x_mean = np.mean(x)\n",
        "y_mean = np.mean(y)\n",
        "\n",
        "#slope\n",
        "numerator = np.sum((x - x_mean) * (y - y_mean))\n",
        "denominator = np.sum((x - x_mean) ** 2)\n",
        "w = numerator / denominator\n",
        "\n",
        "#intercept\n",
        "b = y_mean - w * x_mean\n",
        "\n",
        "#prediction\n",
        "def predict(x):\n",
        "    return w * x + b\n",
        "\n",
        "y_6 = predict(6)\n",
        "\n",
        "print(\"Slope (w):\", w)\n",
        "print(\"Intercept (b):\", b)\n",
        "print(\"Prediction for 6 years experience:\", y_6, \"k Rs\")\n",
        "\n",
        "\n",
        "plt.scatter(x, y, color='blue', label=\"Data points\")\n",
        "plt.plot(x, predict(x), color='red', label=\"Best fit line\")\n",
        "plt.scatter(6, y_6, color='green', s=100, label=\"Prediction at x=6\")\n",
        "\n",
        "plt.xlabel(\"Years of Experience\")\n",
        "plt.ylabel(\"Salary ($1000s)\")\n",
        "plt.title(\"Linear Regression: Experience vs Salary\")\n",
        "plt.legend()\n",
        "plt.grid(True)\n",
        "plt.show()\n"
      ],
      "metadata": {
        "colab": {
          "base_uri": "https://localhost:8080/",
          "height": 524
        },
        "id": "Rn4P60tr4x58",
        "outputId": "72d3205d-2d9d-4471-8b79-1cfb23a7d180"
      },
      "execution_count": null,
      "outputs": [
        {
          "output_type": "stream",
          "name": "stdout",
          "text": [
            "Slope (w): 3.3\n",
            "Intercept (b): 28.300000000000004\n",
            "Prediction for 6 years experience: 48.1 k Rs\n"
          ]
        },
        {
          "output_type": "display_data",
          "data": {
            "text/plain": [
              "<Figure size 640x480 with 1 Axes>"
            ],
            "image/png": "[encoded data removed]"
          },
          "metadata": {}
        }
      ]
    },
    {
      "cell_type": "markdown",
      "source": [
        "  question 03\n",
        "\n",
        "multi-variable\n",
        " Study Hours: [1, 2, 3, 4, 5]\n",
        " Sleep Hours: [8, 7, 6, 6, 5]\n",
        " Score: [50, 55, 65, 70, 75]\n",
        " a) Fit regression: 𝑆𝑐𝑜𝑟𝑒=𝑤1⋅𝑆𝑡𝑢𝑑𝑦+𝑤2⋅𝑆𝑙𝑒𝑒𝑝+𝑏\n",
        " b) Interpret signs of w1,w2\n",
        " c) Predict score if Study = 4, Sleep = 7"
      ],
      "metadata": {
        "id": "Aj4VegTQFxkE"
      }
    },
    {
      "cell_type": "code",
      "source": [
        "# write python code to predict home prices using multiple variable linear regression in python (using sklearn linear_model).\n",
        "# Home prices are dependent on 3 independent variables: area, bedrooms and age.\n",
        "# Pandas dataframe is used to fill missing values first and then use that dataset to train a multivariate regression model"
      ],
      "metadata": {
        "id": "re_3rHZqAMf1"
      },
      "execution_count": null,
      "outputs": []
    },
    {
      "cell_type": "markdown",
      "source": [
        "question 04\n",
        "\n",
        "write python code to predict home prices using multiple variable linear regression in python (using sklearn linear_model).\n",
        "Home prices are dependent on 3 independent variables: area, bedrooms and age.\n",
        "Pandas dataframe is used to fill missing values first and then use that dataset to train a multivariate regression model"
      ],
      "metadata": {
        "id": "vKBpU6uvGPaF"
      }
    },
    {
      "cell_type": "code",
      "source": [
        "pip install openpyxl"
      ],
      "metadata": {
        "colab": {
          "base_uri": "https://localhost:8080/"
        },
        "id": "-ti8t-uE657F",
        "outputId": "50f027f8-a5af-4b4b-e9f1-0ac76bcf648a"
      },
      "execution_count": null,
      "outputs": [
        {
          "output_type": "stream",
          "name": "stdout",
          "text": [
            "Requirement already satisfied: openpyxl in /usr/local/lib/python3.12/dist-packages (3.1.5)\n",
            "Requirement already satisfied: et-xmlfile in /usr/local/lib/python3.12/dist-packages (from openpyxl) (2.0.0)\n"
          ]
        }
      ]
    },
    {
      "cell_type": "code",
      "source": [
        "from google.colab import files\n",
        "uploaded = files.upload()"
      ],
      "metadata": {
        "colab": {
          "base_uri": "https://localhost:8080/",
          "height": 73
        },
        "id": "VGLVoYRJ-x3O",
        "outputId": "3bc45176-22a1-4655-ca1e-cece28b5994a"
      },
      "execution_count": null,
      "outputs": [
        {
          "output_type": "display_data",
          "data": {
            "text/plain": [
              "<IPython.core.display.HTML object>"
            ],
            "text/html": [
              "\n",
              "     <input type=\"file\" id=\"files-d463c53e-60a0-4d9e-964e-e382f861d616\" name=\"files[]\" multiple disabled\n",
              "        style=\"border:none\" />\n",
              "     <output id=\"result-d463c53e-60a0-4d9e-964e-e382f861d616\">\n",
              "      Upload widget is only available when the cell has been executed in the\n",
              "      current browser session. Please rerun this cell to enable.\n",
              "      </output>\n",
              "      <script>// Copyright 2017 Google LLC\n",
              "//\n",
              "// Licensed under the Apache License, Version 2.0 (the \"License\");\n",
              "// you may not use this file except in compliance with the License.\n",
              "// You may obtain a copy of the License at\n",
              "//\n",
              "//      http://www.apache.org/licenses/LICENSE-2.0\n",
              "//\n",
              "// Unless required by applicable law or agreed to in writing, software\n",
              "// distributed under the License is distributed on an \"AS IS\" BASIS,\n",
              "// WITHOUT WARRANTIES OR CONDITIONS OF ANY KIND, either express or implied.\n",
              "// See the License for the specific language governing permissions and\n",
              "// limitations under the License.\n",
              "\n",
              "/**\n",
              " * @fileoverview Helpers for google.colab Python module.\n",
              " */\n",
              "(function(scope) {\n",
              "function span(text, styleAttributes = {}) {\n",
              "  const element = document.createElement('span');\n",
              "  element.textContent = text;\n",
              "  for (const key of Object.keys(styleAttributes)) {\n",
              "    element.style[key] = styleAttributes[key];\n",
              "  }\n",
              "  return element;\n",
              "}\n",
              "\n",
              "// Max number of bytes which will be uploaded at a time.\n",
              "const MAX_PAYLOAD_SIZE = 100 * 1024;\n",
              "\n",
              "function _uploadFiles(inputId, outputId) {\n",
              "  const steps = uploadFilesStep(inputId, outputId);\n",
              "  const outputElement = document.getElementById(outputId);\n",
              "  // Cache steps on the outputElement to make it available for the next call\n",
              "  // to uploadFilesContinue from Python.\n",
              "  outputElement.steps = steps;\n",
              "\n",
              "  return _uploadFilesContinue(outputId);\n",
              "}\n",
              "\n",
              "// This is roughly an async generator (not supported in the browser yet),\n",
              "// where there are multiple asynchronous steps and the Python side is going\n",
              "// to poll for completion of each step.\n",
              "// This uses a Promise to block the python side on completion of each step,\n",
              "// then passes the result of the previous step as the input to the next step.\n",
              "function _uploadFilesContinue(outputId) {\n",
              "  const outputElement = document.getElementById(outputId);\n",
              "  const steps = outputElement.steps;\n",
              "\n",
              "  const next = steps.next(outputElement.lastPromiseValue);\n",
              "  return Promise.resolve(next.value.promise).then((value) => {\n",
              "    // Cache the last promise value to make it available to the next\n",
              "    // step of the generator.\n",
              "    outputElement.lastPromiseValue = value;\n",
              "    return next.value.response;\n",
              "  });\n",
              "}\n",
              "\n",
              "/**\n",
              " * Generator function which is called between each async step of the upload\n",
              " * process.\n",
              " * @param {string} inputId Element ID of the input file picker element.\n",
              " * @param {string} outputId Element ID of the output display.\n",
              " * @return {!Iterable<!Object>} Iterable of next steps.\n",
              " */\n",
              "function* uploadFilesStep(inputId, outputId) {\n",
              "  const inputElement = document.getElementById(inputId);\n",
              "  inputElement.disabled = false;\n",
              "\n",
              "  const outputElement = document.getElementById(outputId);\n",
              "  outputElement.innerHTML = '';\n",
              "\n",
              "  const pickedPromise = new Promise((resolve) => {\n",
              "    inputElement.addEventListener('change', (e) => {\n",
              "      resolve(e.target.files);\n",
              "    });\n",
              "  });\n",
              "\n",
              "  const cancel = document.createElement('button');\n",
              "  inputElement.parentElement.appendChild(cancel);\n",
              "  cancel.textContent = 'Cancel upload';\n",
              "  const cancelPromise = new Promise((resolve) => {\n",
              "    cancel.onclick = () => {\n",
              "      resolve(null);\n",
              "    };\n",
              "  });\n",
              "\n",
              "  // Wait for the user to pick the files.\n",
              "  const files = yield {\n",
              "    promise: Promise.race([pickedPromise, cancelPromise]),\n",
              "    response: {\n",
              "      action: 'starting',\n",
              "    }\n",
              "  };\n",
              "\n",
              "  cancel.remove();\n",
              "\n",
              "  // Disable the input element since further picks are not allowed.\n",
              "  inputElement.disabled = true;\n",
              "\n",
              "  if (!files) {\n",
              "    return {\n",
              "      response: {\n",
              "        action: 'complete',\n",
              "      }\n",
              "    };\n",
              "  }\n",
              "\n",
              "  for (const file of files) {\n",
              "    const li = document.createElement('li');\n",
              "    li.append(span(file.name, {fontWeight: 'bold'}));\n",
              "    li.append(span(\n",
              "        `(${file.type || 'n/a'}) - ${file.size} bytes, ` +\n",
              "        `last modified: ${\n",
              "            file.lastModifiedDate ? file.lastModifiedDate.toLocaleDateString() :\n",
              "                                    'n/a'} - `));\n",
              "    const percent = span('0% done');\n",
              "    li.appendChild(percent);\n",
              "\n",
              "    outputElement.appendChild(li);\n",
              "\n",
              "    const fileDataPromise = new Promise((resolve) => {\n",
              "      const reader = new FileReader();\n",
              "      reader.onload = (e) => {\n",
              "        resolve(e.target.result);\n",
              "      };\n",
              "      reader.readAsArrayBuffer(file);\n",
              "    });\n",
              "    // Wait for the data to be ready.\n",
              "    let fileData = yield {\n",
              "      promise: fileDataPromise,\n",
              "      response: {\n",
              "        action: 'continue',\n",
              "      }\n",
              "    };\n",
              "\n",
              "    // Use a chunked sending to avoid message size limits. See b/62115660.\n",
              "    let position = 0;\n",
              "    do {\n",
              "      const length = Math.min(fileData.byteLength - position, MAX_PAYLOAD_SIZE);\n",
              "      const chunk = new Uint8Array(fileData, position, length);\n",
              "      position += length;\n",
              "\n",
              "      const base64 = btoa(String.fromCharCode.apply(null, chunk));\n",
              "      yield {\n",
              "        response: {\n",
              "          action: 'append',\n",
              "          file: file.name,\n",
              "          data: base64,\n",
              "        },\n",
              "      };\n",
              "\n",
              "      let percentDone = fileData.byteLength === 0 ?\n",
              "          100 :\n",
              "          Math.round((position / fileData.byteLength) * 100);\n",
              "      percent.textContent = `${percentDone}% done`;\n",
              "\n",
              "    } while (position < fileData.byteLength);\n",
              "  }\n",
              "\n",
              "  // All done.\n",
              "  yield {\n",
              "    response: {\n",
              "      action: 'complete',\n",
              "    }\n",
              "  };\n",
              "}\n",
              "\n",
              "scope.google = scope.google || {};\n",
              "scope.google.colab = scope.google.colab || {};\n",
              "scope.google.colab._files = {\n",
              "  _uploadFiles,\n",
              "  _uploadFilesContinue,\n",
              "};\n",
              "})(self);\n",
              "</script> "
            ]
          },
          "metadata": {}
        },
        {
          "output_type": "stream",
          "name": "stdout",
          "text": [
            "Saving homeDataset.xlsx to homeDataset.xlsx\n"
          ]
        }
      ]
    },
    {
      "cell_type": "code",
      "source": [
        "import pandas as pd\n",
        "import numpy as np\n",
        "from sklearn import linear_model\n",
        "\n",
        "df = pd.read_excel(\"homeDataset.xlsx\")\n",
        "\n",
        "print(df)\n"
      ],
      "metadata": {
        "colab": {
          "base_uri": "https://localhost:8080/"
        },
        "id": "nE1aTE_W49GJ",
        "outputId": "b91947e9-b681-4a05-dfb1-c8bffe7ddbff"
      },
      "execution_count": null,
      "outputs": [
        {
          "output_type": "stream",
          "name": "stdout",
          "text": [
            "   Unnamed: 0  area  bedrooms  age   price\n",
            "0           0  2600       3.0   20  550000\n",
            "1           1  3000       4.0   15  565000\n",
            "2           2  3200       NaN   18  610300\n",
            "3           3  3600       3.0   30  595000\n",
            "4           4  4000       5.0    8  760000\n"
          ]
        }
      ]
    },
    {
      "cell_type": "code",
      "source": [
        "import math\n",
        "meadian_df=df.bedrooms.median()\n",
        "df.bedrooms=df.bedrooms.fillna(meadian_df)\n",
        "print(df)"
      ],
      "metadata": {
        "colab": {
          "base_uri": "https://localhost:8080/"
        },
        "id": "RK3Z5uBV4_hH",
        "outputId": "315f3df7-e962-49bd-9561-44ede5c5ee4e"
      },
      "execution_count": null,
      "outputs": [
        {
          "output_type": "stream",
          "name": "stdout",
          "text": [
            "   Unnamed: 0  area  bedrooms  age   price\n",
            "0           0  2600       3.0   20  550000\n",
            "1           1  3000       4.0   15  565000\n",
            "2           2  3200       3.5   18  610300\n",
            "3           3  3600       3.0   30  595000\n",
            "4           4  4000       5.0    8  760000\n"
          ]
        }
      ]
    },
    {
      "cell_type": "code",
      "source": [
        "reg=linear_model.LinearRegression()\n",
        "reg.fit(df[['area','bedrooms','age']],df.price)"
      ],
      "metadata": {
        "colab": {
          "base_uri": "https://localhost:8080/",
          "height": 57
        },
        "id": "XcdPA2yoABDM",
        "outputId": "ea28cfd6-142d-49e4-a8d7-d3138c840cc4"
      },
      "execution_count": null,
      "outputs": [
        {
          "output_type": "execute_result",
          "data": {
            "text/plain": [
              "LinearRegression()"
            ],
            "text/html": [
              "<style>#sk-container-id-4 {\n",
              "  /* Definition of color scheme common for light and dark mode */\n",
              "  --sklearn-color-text: #000;\n",
              "  --sklearn-color-text-muted: #666;\n",
              "  --sklearn-color-line: gray;\n",
              "  /* Definition of color scheme for unfitted estimators */\n",
              "  --sklearn-color-unfitted-level-0: #fff5e6;\n",
              "  --sklearn-color-unfitted-level-1: #f6e4d2;\n",
              "  --sklearn-color-unfitted-level-2: #ffe0b3;\n",
              "  --sklearn-color-unfitted-level-3: chocolate;\n",
              "  /* Definition of color scheme for fitted estimators */\n",
              "  --sklearn-color-fitted-level-0: #f0f8ff;\n",
              "  --sklearn-color-fitted-level-1: #d4ebff;\n",
              "  --sklearn-color-fitted-level-2: #b3dbfd;\n",
              "  --sklearn-color-fitted-level-3: cornflowerblue;\n",
              "\n",
              "  /* Specific color for light theme */\n",
              "  --sklearn-color-text-on-default-background: var(--sg-text-color, var(--theme-code-foreground, var(--jp-content-font-color1, black)));\n",
              "  --sklearn-color-background: var(--sg-background-color, var(--theme-background, var(--jp-layout-color0, white)));\n",
              "  --sklearn-color-border-box: var(--sg-text-color, var(--theme-code-foreground, var(--jp-content-font-color1, black)));\n",
              "  --sklearn-color-icon: #696969;\n",
              "\n",
              "  @media (prefers-color-scheme: dark) {\n",
              "    /* Redefinition of color scheme for dark theme */\n",
              "    --sklearn-color-text-on-default-background: var(--sg-text-color, var(--theme-code-foreground, var(--jp-content-font-color1, white)));\n",
              "    --sklearn-color-background: var(--sg-background-color, var(--theme-background, var(--jp-layout-color0, #111)));\n",
              "    --sklearn-color-border-box: var(--sg-text-color, var(--theme-code-foreground, var(--jp-content-font-color1, white)));\n",
              "    --sklearn-color-icon: #878787;\n",
              "  }\n",
              "}\n",
              "\n",
              "#sk-container-id-4 {\n",
              "  color: var(--sklearn-color-text);\n",
              "}\n",
              "\n",
              "#sk-container-id-4 pre {\n",
              "  padding: 0;\n",
              "}\n",
              "\n",
              "#sk-container-id-4 input.sk-hidden--visually {\n",
              "  border: 0;\n",
              "  clip: rect(1px 1px 1px 1px);\n",
              "  clip: rect(1px, 1px, 1px, 1px);\n",
              "  height: 1px;\n",
              "  margin: -1px;\n",
              "  overflow: hidden;\n",
              "  padding: 0;\n",
              "  position: absolute;\n",
              "  width: 1px;\n",
              "}\n",
              "\n",
              "#sk-container-id-4 div.sk-dashed-wrapped {\n",
              "  border: 1px dashed var(--sklearn-color-line);\n",
              "  margin: 0 0.4em 0.5em 0.4em;\n",
              "  box-sizing: border-box;\n",
              "  padding-bottom: 0.4em;\n",
              "  background-color: var(--sklearn-color-background);\n",
              "}\n",
              "\n",
              "#sk-container-id-4 div.sk-container {\n",
              "  /* jupyter's `normalize.less` sets `[hidden] { display: none; }`\n",
              "     but bootstrap.min.css set `[hidden] { display: none !important; }`\n",
              "     so we also need the `!important` here to be able to override the\n",
              "     default hidden behavior on the sphinx rendered scikit-learn.org.\n",
              "     See: https://github.com/scikit-learn/scikit-learn/issues/21755 */\n",
              "  display: inline-block !important;\n",
              "  position: relative;\n",
              "}\n",
              "\n",
              "#sk-container-id-4 div.sk-text-repr-fallback {\n",
              "  display: none;\n",
              "}\n",
              "\n",
              "div.sk-parallel-item,\n",
              "div.sk-serial,\n",
              "div.sk-item {\n",
              "  /* draw centered vertical line to link estimators */\n",
              "  background-image: linear-gradient(var(--sklearn-color-text-on-default-background), var(--sklearn-color-text-on-default-background));\n",
              "  background-size: 2px 100%;\n",
              "  background-repeat: no-repeat;\n",
              "  background-position: center center;\n",
              "}\n",
              "\n",
              "/* Parallel-specific style estimator block */\n",
              "\n",
              "#sk-container-id-4 div.sk-parallel-item::after {\n",
              "  content: \"\";\n",
              "  width: 100%;\n",
              "  border-bottom: 2px solid var(--sklearn-color-text-on-default-background);\n",
              "  flex-grow: 1;\n",
              "}\n",
              "\n",
              "#sk-container-id-4 div.sk-parallel {\n",
              "  display: flex;\n",
              "  align-items: stretch;\n",
              "  justify-content: center;\n",
              "  background-color: var(--sklearn-color-background);\n",
              "  position: relative;\n",
              "}\n",
              "\n",
              "#sk-container-id-4 div.sk-parallel-item {\n",
              "  display: flex;\n",
              "  flex-direction: column;\n",
              "}\n",
              "\n",
              "#sk-container-id-4 div.sk-parallel-item:first-child::after {\n",
              "  align-self: flex-end;\n",
              "  width: 50%;\n",
              "}\n",
              "\n",
              "#sk-container-id-4 div.sk-parallel-item:last-child::after {\n",
              "  align-self: flex-start;\n",
              "  width: 50%;\n",
              "}\n",
              "\n",
              "#sk-container-id-4 div.sk-parallel-item:only-child::after {\n",
              "  width: 0;\n",
              "}\n",
              "\n",
              "/* Serial-specific style estimator block */\n",
              "\n",
              "#sk-container-id-4 div.sk-serial {\n",
              "  display: flex;\n",
              "  flex-direction: column;\n",
              "  align-items: center;\n",
              "  background-color: var(--sklearn-color-background);\n",
              "  padding-right: 1em;\n",
              "  padding-left: 1em;\n",
              "}\n",
              "\n",
              "\n",
              "/* Toggleable style: style used for estimator/Pipeline/ColumnTransformer box that is\n",
              "clickable and can be expanded/collapsed.\n",
              "- Pipeline and ColumnTransformer use this feature and define the default style\n",
              "- Estimators will overwrite some part of the style using the `sk-estimator` class\n",
              "*/\n",
              "\n",
              "/* Pipeline and ColumnTransformer style (default) */\n",
              "\n",
              "#sk-container-id-4 div.sk-toggleable {\n",
              "  /* Default theme specific background. It is overwritten whether we have a\n",
              "  specific estimator or a Pipeline/ColumnTransformer */\n",
              "  background-color: var(--sklearn-color-background);\n",
              "}\n",
              "\n",
              "/* Toggleable label */\n",
              "#sk-container-id-4 label.sk-toggleable__label {\n",
              "  cursor: pointer;\n",
              "  display: flex;\n",
              "  width: 100%;\n",
              "  margin-bottom: 0;\n",
              "  padding: 0.5em;\n",
              "  box-sizing: border-box;\n",
              "  text-align: center;\n",
              "  align-items: start;\n",
              "  justify-content: space-between;\n",
              "  gap: 0.5em;\n",
              "}\n",
              "\n",
              "#sk-container-id-4 label.sk-toggleable__label .caption {\n",
              "  font-size: 0.6rem;\n",
              "  font-weight: lighter;\n",
              "  color: var(--sklearn-color-text-muted);\n",
              "}\n",
              "\n",
              "#sk-container-id-4 label.sk-toggleable__label-arrow:before {\n",
              "  /* Arrow on the left of the label */\n",
              "  content: \"▸\";\n",
              "  float: left;\n",
              "  margin-right: 0.25em;\n",
              "  color: var(--sklearn-color-icon);\n",
              "}\n",
              "\n",
              "#sk-container-id-4 label.sk-toggleable__label-arrow:hover:before {\n",
              "  color: var(--sklearn-color-text);\n",
              "}\n",
              "\n",
              "/* Toggleable content - dropdown */\n",
              "\n",
              "#sk-container-id-4 div.sk-toggleable__content {\n",
              "  max-height: 0;\n",
              "  max-width: 0;\n",
              "  overflow: hidden;\n",
              "  text-align: left;\n",
              "  /* unfitted */\n",
              "  background-color: var(--sklearn-color-unfitted-level-0);\n",
              "}\n",
              "\n",
              "#sk-container-id-4 div.sk-toggleable__content.fitted {\n",
              "  /* fitted */\n",
              "  background-color: var(--sklearn-color-fitted-level-0);\n",
              "}\n",
              "\n",
              "#sk-container-id-4 div.sk-toggleable__content pre {\n",
              "  margin: 0.2em;\n",
              "  border-radius: 0.25em;\n",
              "  color: var(--sklearn-color-text);\n",
              "  /* unfitted */\n",
              "  background-color: var(--sklearn-color-unfitted-level-0);\n",
              "}\n",
              "\n",
              "#sk-container-id-4 div.sk-toggleable__content.fitted pre {\n",
              "  /* unfitted */\n",
              "  background-color: var(--sklearn-color-fitted-level-0);\n",
              "}\n",
              "\n",
              "#sk-container-id-4 input.sk-toggleable__control:checked~div.sk-toggleable__content {\n",
              "  /* Expand drop-down */\n",
              "  max-height: 200px;\n",
              "  max-width: 100%;\n",
              "  overflow: auto;\n",
              "}\n",
              "\n",
              "#sk-container-id-4 input.sk-toggleable__control:checked~label.sk-toggleable__label-arrow:before {\n",
              "  content: \"▾\";\n",
              "}\n",
              "\n",
              "/* Pipeline/ColumnTransformer-specific style */\n",
              "\n",
              "#sk-container-id-4 div.sk-label input.sk-toggleable__control:checked~label.sk-toggleable__label {\n",
              "  color: var(--sklearn-color-text);\n",
              "  background-color: var(--sklearn-color-unfitted-level-2);\n",
              "}\n",
              "\n",
              "#sk-container-id-4 div.sk-label.fitted input.sk-toggleable__control:checked~label.sk-toggleable__label {\n",
              "  background-color: var(--sklearn-color-fitted-level-2);\n",
              "}\n",
              "\n",
              "/* Estimator-specific style */\n",
              "\n",
              "/* Colorize estimator box */\n",
              "#sk-container-id-4 div.sk-estimator input.sk-toggleable__control:checked~label.sk-toggleable__label {\n",
              "  /* unfitted */\n",
              "  background-color: var(--sklearn-color-unfitted-level-2);\n",
              "}\n",
              "\n",
              "#sk-container-id-4 div.sk-estimator.fitted input.sk-toggleable__control:checked~label.sk-toggleable__label {\n",
              "  /* fitted */\n",
              "  background-color: var(--sklearn-color-fitted-level-2);\n",
              "}\n",
              "\n",
              "#sk-container-id-4 div.sk-label label.sk-toggleable__label,\n",
              "#sk-container-id-4 div.sk-label label {\n",
              "  /* The background is the default theme color */\n",
              "  color: var(--sklearn-color-text-on-default-background);\n",
              "}\n",
              "\n",
              "/* On hover, darken the color of the background */\n",
              "#sk-container-id-4 div.sk-label:hover label.sk-toggleable__label {\n",
              "  color: var(--sklearn-color-text);\n",
              "  background-color: var(--sklearn-color-unfitted-level-2);\n",
              "}\n",
              "\n",
              "/* Label box, darken color on hover, fitted */\n",
              "#sk-container-id-4 div.sk-label.fitted:hover label.sk-toggleable__label.fitted {\n",
              "  color: var(--sklearn-color-text);\n",
              "  background-color: var(--sklearn-color-fitted-level-2);\n",
              "}\n",
              "\n",
              "/* Estimator label */\n",
              "\n",
              "#sk-container-id-4 div.sk-label label {\n",
              "  font-family: monospace;\n",
              "  font-weight: bold;\n",
              "  display: inline-block;\n",
              "  line-height: 1.2em;\n",
              "}\n",
              "\n",
              "#sk-container-id-4 div.sk-label-container {\n",
              "  text-align: center;\n",
              "}\n",
              "\n",
              "/* Estimator-specific */\n",
              "#sk-container-id-4 div.sk-estimator {\n",
              "  font-family: monospace;\n",
              "  border: 1px dotted var(--sklearn-color-border-box);\n",
              "  border-radius: 0.25em;\n",
              "  box-sizing: border-box;\n",
              "  margin-bottom: 0.5em;\n",
              "  /* unfitted */\n",
              "  background-color: var(--sklearn-color-unfitted-level-0);\n",
              "}\n",
              "\n",
              "#sk-container-id-4 div.sk-estimator.fitted {\n",
              "  /* fitted */\n",
              "  background-color: var(--sklearn-color-fitted-level-0);\n",
              "}\n",
              "\n",
              "/* on hover */\n",
              "#sk-container-id-4 div.sk-estimator:hover {\n",
              "  /* unfitted */\n",
              "  background-color: var(--sklearn-color-unfitted-level-2);\n",
              "}\n",
              "\n",
              "#sk-container-id-4 div.sk-estimator.fitted:hover {\n",
              "  /* fitted */\n",
              "  background-color: var(--sklearn-color-fitted-level-2);\n",
              "}\n",
              "\n",
              "/* Specification for estimator info (e.g. \"i\" and \"?\") */\n",
              "\n",
              "/* Common style for \"i\" and \"?\" */\n",
              "\n",
              ".sk-estimator-doc-link,\n",
              "a:link.sk-estimator-doc-link,\n",
              "a:visited.sk-estimator-doc-link {\n",
              "  float: right;\n",
              "  font-size: smaller;\n",
              "  line-height: 1em;\n",
              "  font-family: monospace;\n",
              "  background-color: var(--sklearn-color-background);\n",
              "  border-radius: 1em;\n",
              "  height: 1em;\n",
              "  width: 1em;\n",
              "  text-decoration: none !important;\n",
              "  margin-left: 0.5em;\n",
              "  text-align: center;\n",
              "  /* unfitted */\n",
              "  border: var(--sklearn-color-unfitted-level-1) 1pt solid;\n",
              "  color: var(--sklearn-color-unfitted-level-1);\n",
              "}\n",
              "\n",
              ".sk-estimator-doc-link.fitted,\n",
              "a:link.sk-estimator-doc-link.fitted,\n",
              "a:visited.sk-estimator-doc-link.fitted {\n",
              "  /* fitted */\n",
              "  border: var(--sklearn-color-fitted-level-1) 1pt solid;\n",
              "  color: var(--sklearn-color-fitted-level-1);\n",
              "}\n",
              "\n",
              "/* On hover */\n",
              "div.sk-estimator:hover .sk-estimator-doc-link:hover,\n",
              ".sk-estimator-doc-link:hover,\n",
              "div.sk-label-container:hover .sk-estimator-doc-link:hover,\n",
              ".sk-estimator-doc-link:hover {\n",
              "  /* unfitted */\n",
              "  background-color: var(--sklearn-color-unfitted-level-3);\n",
              "  color: var(--sklearn-color-background);\n",
              "  text-decoration: none;\n",
              "}\n",
              "\n",
              "div.sk-estimator.fitted:hover .sk-estimator-doc-link.fitted:hover,\n",
              ".sk-estimator-doc-link.fitted:hover,\n",
              "div.sk-label-container:hover .sk-estimator-doc-link.fitted:hover,\n",
              ".sk-estimator-doc-link.fitted:hover {\n",
              "  /* fitted */\n",
              "  background-color: var(--sklearn-color-fitted-level-3);\n",
              "  color: var(--sklearn-color-background);\n",
              "  text-decoration: none;\n",
              "}\n",
              "\n",
              "/* Span, style for the box shown on hovering the info icon */\n",
              ".sk-estimator-doc-link span {\n",
              "  display: none;\n",
              "  z-index: 9999;\n",
              "  position: relative;\n",
              "  font-weight: normal;\n",
              "  right: .2ex;\n",
              "  padding: .5ex;\n",
              "  margin: .5ex;\n",
              "  width: min-content;\n",
              "  min-width: 20ex;\n",
              "  max-width: 50ex;\n",
              "  color: var(--sklearn-color-text);\n",
              "  box-shadow: 2pt 2pt 4pt #999;\n",
              "  /* unfitted */\n",
              "  background: var(--sklearn-color-unfitted-level-0);\n",
              "  border: .5pt solid var(--sklearn-color-unfitted-level-3);\n",
              "}\n",
              "\n",
              ".sk-estimator-doc-link.fitted span {\n",
              "  /* fitted */\n",
              "  background: var(--sklearn-color-fitted-level-0);\n",
              "  border: var(--sklearn-color-fitted-level-3);\n",
              "}\n",
              "\n",
              ".sk-estimator-doc-link:hover span {\n",
              "  display: block;\n",
              "}\n",
              "\n",
              "/* \"?\"-specific style due to the `<a>` HTML tag */\n",
              "\n",
              "#sk-container-id-4 a.estimator_doc_link {\n",
              "  float: right;\n",
              "  font-size: 1rem;\n",
              "  line-height: 1em;\n",
              "  font-family: monospace;\n",
              "  background-color: var(--sklearn-color-background);\n",
              "  border-radius: 1rem;\n",
              "  height: 1rem;\n",
              "  width: 1rem;\n",
              "  text-decoration: none;\n",
              "  /* unfitted */\n",
              "  color: var(--sklearn-color-unfitted-level-1);\n",
              "  border: var(--sklearn-color-unfitted-level-1) 1pt solid;\n",
              "}\n",
              "\n",
              "#sk-container-id-4 a.estimator_doc_link.fitted {\n",
              "  /* fitted */\n",
              "  border: var(--sklearn-color-fitted-level-1) 1pt solid;\n",
              "  color: var(--sklearn-color-fitted-level-1);\n",
              "}\n",
              "\n",
              "/* On hover */\n",
              "#sk-container-id-4 a.estimator_doc_link:hover {\n",
              "  /* unfitted */\n",
              "  background-color: var(--sklearn-color-unfitted-level-3);\n",
              "  color: var(--sklearn-color-background);\n",
              "  text-decoration: none;\n",
              "}\n",
              "\n",
              "#sk-container-id-4 a.estimator_doc_link.fitted:hover {\n",
              "  /* fitted */\n",
              "  background-color: var(--sklearn-color-fitted-level-3);\n",
              "}\n",
              "</style><div id=\"sk-container-id-4\" class=\"sk-top-container\"><div class=\"sk-text-repr-fallback\"><pre>LinearRegression()</pre><b>In a Jupyter environment, please rerun this cell to show the HTML representation or trust the notebook. <br />On GitHub, the HTML representation is unable to render, please try loading this page with nbviewer.org.</b></div><div class=\"sk-container\" hidden><div class=\"sk-item\"><div class=\"sk-estimator fitted sk-toggleable\"><input class=\"sk-toggleable__control sk-hidden--visually\" id=\"sk-estimator-id-4\" type=\"checkbox\" checked><label for=\"sk-estimator-id-4\" class=\"sk-toggleable__label fitted sk-toggleable__label-arrow\"><div><div>LinearRegression</div></div><div><a class=\"sk-estimator-doc-link fitted\" rel=\"noreferrer\" target=\"_blank\" href=\"https://scikit-learn.org/1.6/modules/generated/sklearn.linear_model.LinearRegression.html\">?<span>Documentation for LinearRegression</span></a><span class=\"sk-estimator-doc-link fitted\">i<span>Fitted</span></span></div></label><div class=\"sk-toggleable__content fitted\"><pre>LinearRegression()</pre></div> </div></div></div></div>"
            ]
          },
          "metadata": {},
          "execution_count": 15
        }
      ]
    },
    {
      "cell_type": "code",
      "source": [
        "reg.coef_"
      ],
      "metadata": {
        "colab": {
          "base_uri": "https://localhost:8080/"
        },
        "id": "zMTme5R_AwtH",
        "outputId": "7bb3436d-dfc6-46b4-d872-6951a9f20749"
      },
      "execution_count": null,
      "outputs": [
        {
          "output_type": "execute_result",
          "data": {
            "text/plain": [
              "array([    198.82098572, -117125.16088526,  -14312.69816355])"
            ]
          },
          "metadata": {},
          "execution_count": 10
        }
      ]
    },
    {
      "cell_type": "code",
      "source": [
        "reg.intercept_"
      ],
      "metadata": {
        "colab": {
          "base_uri": "https://localhost:8080/"
        },
        "id": "EaoNv84KBM6_",
        "outputId": "d78fd795-1253-4bd1-8cb1-c769c1ab1f9c"
      },
      "execution_count": null,
      "outputs": [
        {
          "output_type": "execute_result",
          "data": {
            "text/plain": [
              "np.float64(657781.3687019309)"
            ]
          },
          "metadata": {},
          "execution_count": 11
        }
      ]
    },
    {
      "cell_type": "code",
      "source": [
        "reg.predict([[2500,4,5]])"
      ],
      "metadata": {
        "colab": {
          "base_uri": "https://localhost:8080/"
        },
        "id": "Uo1alZJ8BT1P",
        "outputId": "382ea6d4-98e2-426a-9b90-c231e1e21b03"
      },
      "execution_count": null,
      "outputs": [
        {
          "output_type": "stream",
          "name": "stderr",
          "text": [
            "/usr/local/lib/python3.12/dist-packages/sklearn/utils/validation.py:2739: UserWarning: X does not have valid feature names, but LinearRegression was fitted with feature names\n",
            "  warnings.warn(\n"
          ]
        },
        {
          "output_type": "execute_result",
          "data": {
            "text/plain": [
              "array([614769.69863444])"
            ]
          },
          "metadata": {},
          "execution_count": 16
        }
      ]
    },
    {
      "cell_type": "markdown",
      "source": [
        "question 05\n",
        "\n",
        "You are given the following dataset:\n",
        "x = [1, 2, 3, 4, 5], \\quad y = [5, 7, 9, 11, 13]\n",
        "1. Implement gradient descent to find the best-fit line for this data using the linear regression model:\n",
        "2. Use the cost function (Mean Squared Error):\n",
        "3. Update the parameters m and b iteratively using gradient descent until convergence.\n"
      ],
      "metadata": {
        "id": "7Xc5t4VKrGZ1"
      }
    },
    {
      "cell_type": "code",
      "source": [
        "from dataclasses import make_dataclass\n",
        "import numpy as np\n",
        "\n",
        "x=np.array([1,2,3,4,5])\n",
        "y=np.array([5,7,9,10,15])\n",
        "\n",
        "def gradeint_descent(x,y):\n",
        "    m_curr=b_curr=0\n",
        "    iterations=10\n",
        "    n=len(x)\n",
        "    learning_rate=0.001\n",
        "\n",
        "    for i in range(iterations):\n",
        "        y_predicted=m_curr*x+b_curr\n",
        "        cost=(1/n)*np.sum((y-y_predicted)**2)\n",
        "        #partial derivatives\n",
        "\n",
        "        md=-(2/n)*sum(x*(y-y_predicted))\n",
        "        bd=-(2/n)*sum(y-y_predicted)\n",
        "        m_curr=m_curr-learning_rate*md\n",
        "        b_curr=b_curr-learning_rate*bd\n",
        "        # print(\"m {}, b {}, cost {}, iteration {}\".format(m_curr,b_curr,cost,i))\n",
        "        print(f\"Iteration {i}: m={m_curr:.4f}, b={b_curr:.4f}, cost={cost:.4f}\")\n",
        "\n",
        "gradeint_descent(x,y)\n"
      ],
      "metadata": {
        "colab": {
          "base_uri": "https://localhost:8080/"
        },
        "id": "DF8vV7bgj1HL",
        "outputId": "52109e2d-6875-4707-9bf6-deb0a50ced33"
      },
      "execution_count": null,
      "outputs": [
        {
          "output_type": "stream",
          "name": "stdout",
          "text": [
            "Iteration 0: m=0.0644, b=0.0184, cost=96.0000\n",
            "Iteration 1: m=0.1273, b=0.0364, cost=91.5671\n",
            "Iteration 2: m=0.1887, b=0.0539, cost=87.3416\n",
            "Iteration 3: m=0.2486, b=0.0711, cost=83.3136\n",
            "Iteration 4: m=0.3071, b=0.0879, cost=79.4740\n",
            "Iteration 5: m=0.3642, b=0.1042, cost=75.8139\n",
            "Iteration 6: m=0.4200, b=0.1203, cost=72.3250\n",
            "Iteration 7: m=0.4744, b=0.1359, cost=68.9992\n",
            "Iteration 8: m=0.5276, b=0.1512, cost=65.8289\n",
            "Iteration 9: m=0.5794, b=0.1661, cost=62.8068\n"
          ]
        }
      ]
    },
    {
      "cell_type": "markdown",
      "source": [
        "Question 06\n",
        "\n",
        "You are given the following dataset of students Math and CS scores:\n",
        "\n",
        "x = [92, 56, 88, 70, 80, 49, 65, 35, 66, 67]  \n",
        "y = [98, 68, 81, 80, 83, 52, 66, 30, 68, 73]  \n",
        "\n",
        "\n",
        "1. Implement gradient descent to fit a linear regression model of the form\n",
        "2. Define the cost function as Mean Squared Error (MSE)\n",
        "3. Update the parameters m and b iteratively using gradient descent.\n",
        "4. Print the cost at each iteration and check for convergence.\n",
        "Convergence occurs when the cost between consecutive iterations becomes very close.\n",
        "5. print:\n",
        "   a) The number of iterations required to converge\n",
        "   b) The final values of m and b\n",
        "\n"
      ],
      "metadata": {
        "id": "ARHwhZiZs7J7"
      }
    },
    {
      "cell_type": "code",
      "source": [
        "import numpy as np\n",
        "\n",
        "x = np.array([92, 56, 88, 70, 80, 49, 65, 35, 66, 67])\n",
        "y = np.array([98, 68, 81, 80, 83, 52, 66, 30, 68, 73])\n",
        "\n",
        "def gradient_descent(x, y):\n",
        "    m_curr = b_curr = 0\n",
        "    learning_rate = 0.0001\n",
        "    iterations = 100\n",
        "    n = len(x)\n",
        "\n",
        "    m_history = []\n",
        "    b_history = []\n",
        "\n",
        "    for i in range(iterations):\n",
        "        y_predicted = m_curr * x + b_curr\n",
        "        cost = (1/n) * np.sum((y-y_predicted)**2)\n",
        "\n",
        "        md = -(2/n) * sum(x * (y - y_predicted))\n",
        "        bd = -(2/n) * sum(y - y_predicted)\n",
        "\n",
        "\n",
        "        m_curr = m_curr - learning_rate * md\n",
        "        b_curr = b_curr - learning_rate * bd\n",
        "\n",
        "        m_history.append(m_curr)\n",
        "        b_history.append(b_curr)\n",
        "\n",
        "        #to see convergence\n",
        "        cost_curr = (1/n) * sum((y - (m_curr * x + b_curr)) ** 2)\n",
        "\n",
        "        print(f\"Iteration {i}: m={m_curr}, b={b_curr}, cost={cost_curr}\")\n",
        "\n",
        "        #convergence\n",
        "        if np.isclose(cost, cost_curr, atol=1e-6):\n",
        "            print(f\"\\nConverged after {i} iterations\")\n",
        "            return m_curr, b_curr, i, m_history, b_history\n",
        "\n",
        "    return m_curr, b_curr, iterations\n",
        "\n",
        "\n",
        "m, b, iterations, m_history, b_history = gradient_descent(x, y)\n",
        "print(f\"\\nFinal slope (m): {m}, intercept (b): {b}, iterations: {iterations}\")\n"
      ],
      "metadata": {
        "colab": {
          "base_uri": "https://localhost:8080/"
        },
        "id": "O5B_L8WDpxrC",
        "outputId": "cfb1a192-6f52-4258-b2c8-c43ac84fe09e"
      },
      "execution_count": null,
      "outputs": [
        {
          "output_type": "stream",
          "name": "stdout",
          "text": [
            "Iteration 0: m=0.9891800000000002, b=0.013980000000000001, cost=46.3330473650399\n",
            "Iteration 1: m=1.0416176032, b=0.0147417592, cost=31.852649863558305\n",
            "Iteration 2: m=1.0443971065873279, b=0.014802799669408, cost=31.811952059367805\n",
            "Iteration 3: m=1.0445441606668626, b=0.014826693765467417, cost=31.811832943358482\n",
            "\n",
            "Converged after 3 iterations\n",
            "\n",
            "Final slope (m): 1.0445441606668626, intercept (b): 0.014826693765467417, iterations: 3\n"
          ]
        }
      ]
    },
    {
      "cell_type": "markdown",
      "source": [
        "graphical repersentation for above senario"
      ],
      "metadata": {
        "id": "ce38I5UQ2QyL"
      }
    },
    {
      "cell_type": "code",
      "source": [
        "import matplotlib.pyplot as plt\n",
        "import numpy as np\n",
        "\n",
        "\n",
        "plt.scatter(x, y, color='blue', label='Data points')\n",
        "\n",
        "for i in range(len(m_history)):\n",
        "    y_line = m_history[i] * x + b_history[i]\n",
        "    plt.plot(x, y_line, color='red', alpha=1)\n",
        "\n",
        "\n",
        "y_final = m_history[-1] * x + b_history[-1]\n",
        "plt.plot(x, y_final, color='green', linewidth=2, label='Final Regression Line')\n",
        "\n",
        "plt.xlabel('Math Scores')\n",
        "plt.ylabel('CS Scores')\n",
        "plt.title('Gradient Descent Iterations - Regression Lines')\n",
        "plt.legend()\n",
        "plt.grid(True)\n",
        "plt.show()\n"
      ],
      "metadata": {
        "id": "LSW7sRepz8TJ",
        "outputId": "8545d63f-dce6-4190-f07b-58beac653ff8",
        "colab": {
          "base_uri": "https://localhost:8080/",
          "height": 472
        }
      },
      "execution_count": null,
      "outputs": [
        {
          "output_type": "display_data",
          "data": {
            "text/plain": [
              "<Figure size 640x480 with 1 Axes>"
            ],
            "image/png": "[encoded data removed]"
          },
          "metadata": {}
        }
      ]
    },
    {
      "cell_type": "markdown",
      "source": [
        "Question 06\n",
        "\n",
        "You are given a dataset representing students' study hours and their exam results (0 for fail, 1 for pass). Your task is to implement logistic regression from scratch using only NumPy to predict whether a student will pass or fail based on their study hours.\n",
        "\n",
        "Study Hours: [0.5, 0.75, 1.0, 1.5, 2.0, 2.5, 3.0, 3.5, 4.0, 4.5, 5.0, 5.5, 6.0]\n",
        "\n",
        "Exam Results: [0, 0, 0, 0, 0, 1, 0, 1, 1, 1, 1, 1, 1]\n"
      ],
      "metadata": {
        "id": "6MVVM_cCH3T7"
      }
    },
    {
      "cell_type": "code",
      "source": [
        "import numpy as np\n",
        "import matplotlib.pyplot as plt\n",
        "\n",
        "\n",
        "hours = np.array([0.5, 0.75, 1.0, 1.5, 2.0, 2.5, 3.0, 3.5, 4.0, 4.5, 5.0, 5.5, 6.0])\n",
        "result = np.array([0, 0, 0, 0, 0, 1, 0, 1, 1, 1, 1, 1, 1])\n",
        "\n",
        "\n",
        "X = np.column_stack((np.ones(len(hours)), hours))\n",
        "y = result\n",
        "\n",
        "\n",
        "theta = np.zeros(2)\n",
        "\n",
        "\n",
        "def sigmoid(z):\n",
        "    return 1 / (1 + np.exp(-z))\n",
        "\n",
        "\n",
        "def hypothesis(X, theta):\n",
        "    return sigmoid(np.dot(X, theta))\n",
        "\n",
        "\n",
        "def compute_cost(X, y, theta):\n",
        "    m = len(y)\n",
        "    h = hypothesis(X, theta)\n",
        "    cost = (-1/m) * np.sum(y * np.log(h) + (1 - y) * np.log(1 - h))\n",
        "    return cost\n",
        "\n",
        "\n",
        "def gradient_descent(X, y, theta, alpha, iterations):\n",
        "    m = len(y)\n",
        "    cost_history = []\n",
        "\n",
        "    for i in range(iterations):\n",
        "        h = hypothesis(X, theta)\n",
        "        gradient = np.dot(X.T, (h - y)) / m\n",
        "        theta = theta - alpha * gradient\n",
        "        cost = compute_cost(X, y, theta)\n",
        "        cost_history.append(cost)\n",
        "\n",
        "\n",
        "        if i % 100 == 0:\n",
        "            print(f\"Iteration {i}: Cost = {cost}\")\n",
        "\n",
        "    return theta, cost_history\n",
        "\n",
        "\n",
        "alpha = 0.1\n",
        "iterations = 1000\n",
        "theta, cost_history = gradient_descent(X, y, theta, alpha, iterations)\n",
        "\n",
        "print(f\"\\nFinal parameters: θ₀ = {theta[0]:.4f}, θ₁ = {theta[1]:.4f}\")\n",
        "\n",
        "\n",
        "decision_boundary = -theta[0] / theta[1]\n",
        "print(f\"Decision boundary: {decision_boundary:.2f} hours\")\n",
        "\n",
        "\n",
        "def predict(X, theta, threshold=0.5):\n",
        "    return (hypothesis(X, theta) >= threshold).astype(int)\n",
        "\n",
        "\n",
        "test_hours = np.array([1, 2, 3, 4, 5])\n",
        "test_X = np.column_stack((np.ones(len(test_hours)), test_hours))\n",
        "predictions = predict(test_X, theta)\n",
        "\n",
        "print(\"\\nPredictions:\")\n",
        "for i in range(len(test_hours)):\n",
        "    print(f\"{test_hours[i]} hours: {'PASS' if predictions[i] == 1 else 'FAIL'}\")\n"
      ],
      "metadata": {
        "id": "KlOkgb992huC",
        "outputId": "44353e33-7e52-4d09-9517-7c809d3a9769",
        "colab": {
          "base_uri": "https://localhost:8080/",
          "height": 399
        }
      },
      "execution_count": null,
      "outputs": [
        {
          "output_type": "stream",
          "name": "stdout",
          "text": [
            "Iteration 0: Cost = 0.6314176662419312\n",
            "Iteration 100: Cost = 0.38919678369676697\n",
            "Iteration 200: Cost = 0.314509260345502\n",
            "Iteration 300: Cost = 0.27748973853049436\n",
            "Iteration 400: Cost = 0.2559889560647678\n",
            "Iteration 500: Cost = 0.24213540187917956\n",
            "Iteration 600: Cost = 0.23255589473842717\n",
            "Iteration 700: Cost = 0.2255891960606192\n",
            "Iteration 800: Cost = 0.22032888219573837\n",
            "Iteration 900: Cost = 0.2162405536691389\n",
            "\n",
            "Final parameters: θ₀ = -4.5664, θ₁ = 1.7198\n",
            "Decision boundary: 2.66 hours\n",
            "\n",
            "Predictions:\n",
            "1 hours: FAIL\n",
            "2 hours: FAIL\n",
            "3 hours: PASS\n",
            "4 hours: PASS\n",
            "5 hours: PASS\n"
          ]
        },
        {
          "output_type": "execute_result",
          "data": {
            "text/plain": [
              "<Figure size 1200x500 with 0 Axes>"
            ]
          },
          "metadata": {},
          "execution_count": 48
        },
        {
          "output_type": "display_data",
          "data": {
            "text/plain": [
              "<Figure size 1200x500 with 0 Axes>"
            ]
          },
          "metadata": {}
        }
      ]
    },
    {
      "cell_type": "code",
      "source": [
        "#results\n",
        "plt.figure(figsize=(12, 5))\n",
        "\n",
        "#decision boundary\n",
        "plt.subplot(1, 2, 1)\n",
        "plt.scatter(hours, y, color='blue', label='Data points')\n",
        "plt.axvline(x=decision_boundary, color='green', linestyle='--',\n",
        "            label=f'Decision Boundary ({decision_boundary:.2f} hours)')\n",
        "plt.xlabel('Study Hours')\n",
        "plt.ylabel('Pass (1) / Fail (0)')\n",
        "plt.title('Study Hours vs. Exam Result')\n",
        "plt.legend()\n",
        "plt.grid(True)"
      ],
      "metadata": {
        "id": "Qjq0xCv8HP5V",
        "outputId": "7e835148-0dfd-49af-c3e7-5f36857f2bd1",
        "colab": {
          "base_uri": "https://localhost:8080/",
          "height": 487
        }
      },
      "execution_count": null,
      "outputs": [
        {
          "output_type": "display_data",
          "data": {
            "text/plain": [
              "<Figure size 1200x500 with 1 Axes>"
            ],
            "image/png": "[encoded data removed]"
          },
          "metadata": {}
        }
      ]
    },
    {
      "cell_type": "code",
      "source": [
        "# Cost function\n",
        "plt.subplot(1, 2, 2)\n",
        "plt.plot(cost_history)\n",
        "plt.xlabel('Iterations')\n",
        "plt.ylabel('Cost')\n",
        "plt.title('Cost Function Over Time')\n",
        "plt.grid(True)\n",
        "\n",
        "plt.tight_layout()\n",
        "plt.show()"
      ],
      "metadata": {
        "id": "YLLVblPWIZW2",
        "outputId": "7cfbbdc5-f60a-41b2-ebab-3c128d61652c",
        "colab": {
          "base_uri": "https://localhost:8080/",
          "height": 487
        }
      },
      "execution_count": null,
      "outputs": [
        {
          "output_type": "display_data",
          "data": {
            "text/plain": [
              "<Figure size 640x480 with 1 Axes>"
            ],
            "image/png": "[encoded data removed]"
          },
          "metadata": {}
        }
      ]
    },
    {
      "cell_type": "code",
      "source": [
        "# sigmoid curve\n",
        "plt.figure(figsize=(10, 6))\n",
        "x_values = np.linspace(0, 6, 100)\n",
        "x_with_intercept = np.column_stack((np.ones(len(x_values)), x_values))\n",
        "y_probs = hypothesis(x_with_intercept, theta)\n",
        "\n",
        "plt.scatter(hours, y, color='blue', label='Data points')\n",
        "plt.plot(x_values, y_probs, color='red', label='Sigmoid Function')\n",
        "plt.axhline(y=0.5, color='black', linestyle='--', label='Decision Threshold (0.5)')\n",
        "plt.axvline(x=decision_boundary, color='green', linestyle='--',\n",
        "            label=f'Decision Boundary ({decision_boundary:.2f} hours)')\n",
        "plt.xlabel('Study Hours')\n",
        "plt.ylabel('Probability of Passing')\n",
        "plt.title('Logistic Regression Model')\n",
        "plt.legend()\n",
        "plt.grid(True)\n",
        "plt.show()"
      ],
      "metadata": {
        "id": "N76pf8G3If51",
        "outputId": "c94a92fa-fec5-4e81-c8c2-a6e388544737",
        "colab": {
          "base_uri": "https://localhost:8080/",
          "height": 564
        }
      },
      "execution_count": null,
      "outputs": [
        {
          "output_type": "display_data",
          "data": {
            "text/plain": [
              "<Figure size 1000x600 with 1 Axes>"
            ],
            "image/png": "[encoded data removed]"
          },
          "metadata": {}
        }
      ]
    },
    {
      "cell_type": "code",
      "source": [
        "# Day 04 toy_dataset for email\n",
        "\n",
        "import numpy as np\n",
        "import pandas as pd\n",
        "from sklearn.metrics import accuracy_score, precision_score, recall_score, f1_score, confusion_matrix\n",
        "import seaborn as sns\n",
        "import matplotlib.pyplot as plt\n",
        "\n",
        "\n",
        "truth_data = ['Not Spam', 'Not Spam', 'Spam', 'Not Spam', 'Spam',\n",
        "              'Spam', 'Not Spam', 'Not Spam', 'Spam', 'Spam']\n",
        "prediction_data = ['Not Spam', 'Spam', 'Spam', 'Not Spam', 'Not Spam',\n",
        "                   'Spam', 'Not Spam', 'Not Spam', 'Spam', 'Spam']\n",
        "\n",
        "\n",
        "df = pd.DataFrame({\n",
        "    'truth': truth_data,\n",
        "    'prediction': prediction_data\n",
        "})\n",
        "\n",
        "print(\"Dataset:\")\n",
        "print(df)\n",
        "\n",
        "y_true = df['truth']\n",
        "y_pred = df['prediction']\n",
        "\n",
        "\n",
        "cm = confusion_matrix(y_true, y_pred, labels=['Spam', 'Not Spam'])\n",
        "print(\"\\nConfusion Matrix (from sklearn):\")\n",
        "print(cm)\n",
        "\n",
        "\n",
        "TP = cm[0, 0]  # spam predicted: spam\n",
        "FN = cm[0, 1]  # spam predicted: nt spam\n",
        "FP = cm[1, 0]  # not Spam predicted: spam\n",
        "TN = cm[1, 1]  # not Spam predicted: nt spam\n",
        "\n",
        "print(f\"\\nManual Calculation from Confusion Matrix:\")\n",
        "print(f\"True Positives (TP): {TP}\")\n",
        "print(f\"False Negatives (FN): {FN}\")\n",
        "print(f\"False Positives (FP): {FP}\")\n",
        "print(f\"True Negatives (TN): {TN}\")\n",
        "\n",
        "accuracy_manual = (TP + TN) / (TP + TN + FP + FN)\n",
        "precision_manual = TP / (TP + FP)\n",
        "recall_manual = TP / (TP + FN)\n",
        "f1_manual = 2 * (precision_manual * recall_manual) / (precision_manual + recall_manual)\n",
        "\n",
        "print(f\"\\nManually Calculated Metrics:\")\n",
        "print(f\"Accuracy: {accuracy_manual}\")\n",
        "print(f\"Precision: {precision_manual}\")\n",
        "print(f\"Recall: {recall_manual}\")\n",
        "print(f\"F1-Score: {f1_manual}\")\n",
        "\n",
        "\n",
        "accuracy = accuracy_score(y_true, y_pred)\n",
        "precision = precision_score(y_true, y_pred, pos_label='Spam')\n",
        "recall = recall_score(y_true, y_pred, pos_label='Spam')\n",
        "f1 = f1_score(y_true, y_pred, pos_label='Spam')\n",
        "\n",
        "print(f\"\\nSklearn Calculated Metrics:\")\n",
        "print(f\"Accuracy: {accuracy:.2f}\")\n",
        "print(f\"Precision: {precision:.2f}\")\n",
        "print(f\"Recall: {recall:.2f}\")\n",
        "print(f\"F1-Score: {f1:.2f}\")\n",
        "\n",
        "\n",
        "\n",
        "plt.figure(figsize=(8, 6))\n",
        "sns.heatmap(cm, annot=True, fmt='d', cmap='Blues',\n",
        "            xticklabels=['Predicted Spam', 'Predicted Not Spam'],\n",
        "            yticklabels=['Actual Spam', 'Actual Not Spam'])\n",
        "plt.title('Confusion Matrix for Spam Detection Model')\n",
        "plt.ylabel('Truth')\n",
        "plt.xlabel('Prediction')\n",
        "plt.tight_layout()\n",
        "plt.savefig('confusion_matrix.png')\n",
        "plt.show()"
      ],
      "metadata": {
        "id": "BxVPusUFIs_m",
        "outputId": "b218e9b5-1e11-4a32-cad2-4174a145ea2e",
        "colab": {
          "base_uri": "https://localhost:8080/",
          "height": 1000
        }
      },
      "execution_count": null,
      "outputs": [
        {
          "output_type": "stream",
          "name": "stdout",
          "text": [
            "Dataset:\n",
            "      truth prediction\n",
            "0  Not Spam   Not Spam\n",
            "1  Not Spam       Spam\n",
            "2      Spam       Spam\n",
            "3  Not Spam   Not Spam\n",
            "4      Spam   Not Spam\n",
            "5      Spam       Spam\n",
            "6  Not Spam   Not Spam\n",
            "7  Not Spam   Not Spam\n",
            "8      Spam       Spam\n",
            "9      Spam       Spam\n",
            "\n",
            "Confusion Matrix (from sklearn):\n",
            "[[4 1]\n",
            " [1 4]]\n",
            "\n",
            "Manual Calculation from Confusion Matrix:\n",
            "True Positives (TP): 4\n",
            "False Negatives (FN): 1\n",
            "False Positives (FP): 1\n",
            "True Negatives (TN): 4\n",
            "\n",
            "Manually Calculated Metrics:\n",
            "Accuracy: 0.80\n",
            "Precision: 0.80\n",
            "Recall: 0.80\n",
            "F1-Score: 0.80\n",
            "\n",
            "Sklearn Calculated Metrics:\n",
            "Accuracy: 0.80\n",
            "Precision: 0.80\n",
            "Recall: 0.80\n",
            "F1-Score: 0.80\n"
          ]
        },
        {
          "output_type": "display_data",
          "data": {
            "text/plain": [
              "<Figure size 800x600 with 2 Axes>"
            ],
            "image/png": "[encoded data removed]"
          },
          "metadata": {}
        }
      ]
    },
    {
      "cell_type": "code",
      "source": [],
      "metadata": {
        "id": "FXpOjDR9M3vk"
      },
      "execution_count": null,
      "outputs": []
    }
  ]
}